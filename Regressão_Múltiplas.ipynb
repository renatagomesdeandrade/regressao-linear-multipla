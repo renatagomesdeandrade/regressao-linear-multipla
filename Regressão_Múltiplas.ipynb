{
  "nbformat": 4,
  "nbformat_minor": 0,
  "metadata": {
    "colab": {
      "provenance": []
    },
    "kernelspec": {
      "name": "python3",
      "display_name": "Python 3"
    },
    "language_info": {
      "name": "python"
    }
  },
  "cells": [
    {
      "cell_type": "code",
      "execution_count": 7,
      "metadata": {
        "colab": {
          "base_uri": "https://localhost:8080/"
        },
        "id": "JLPF7IUTAR8D",
        "outputId": "6414983d-347b-4a4e-b990-3419dd6e50ad"
      },
      "outputs": [
        {
          "output_type": "stream",
          "name": "stdout",
          "text": [
            "\n",
            "Intercepto, beta0 = 73.73414\n",
            "Coeficientes angulares, beta1 = 0.00004, beta2 = -0.38273, beta3 = -0.40620, beta4 = -1.54067\n",
            "R-quadrado, r2 = 0.95917\n",
            "Residuo de lstsq, residuo = 1504.70961\n",
            "Residuo calculado, rss = 1504.70961\n",
            "\n"
          ]
        }
      ],
      "source": [
        "import numpy as np\n",
        "import matplotlib.pyplot as plt\n",
        "dados = np.genfromtxt('dados_descarbonizacao.csv', delimiter=',', skip_header=1)\n",
        "\n",
        "dados = np.array(dados)\n",
        "dadosT = np.transpose(dados)\n",
        "\n",
        "emissao = dadosT[4]\n",
        "dadosT = np.delete(dadosT, 4, 0)\n",
        "dados = np.transpose(dadosT)\n",
        "\n",
        "Dados = np.hstack((np.ones((len(dados), 1)), dados))\n",
        "betas, res, _, _ = np.linalg.lstsq(Dados, emissao, rcond=None)\n",
        "beta0, beta1, beta2, beta3, beta4 = betas\n",
        "\n",
        "residuo = res[0]\n",
        "\n",
        "yPrev = Dados @ betas\n",
        "\n",
        "yMedio = np.mean(emissao)\n",
        "tss = np.sum((emissao - yMedio) ** 2)\n",
        "rss = np.sum((emissao - yPrev) ** 2)\n",
        "r2 = 1 - rss / tss\n",
        "print(f'\\nIntercepto, {beta0 = :.5f}')\n",
        "print(f'Coeficientes angulares, {beta1 = :.5f}, {beta2 = :.5f}, {beta3 = :.5f}, {beta4 = :.5f}')\n",
        "print(f'R-quadrado, {r2 = :.5f}')\n",
        "print(f'Residuo de lstsq, {residuo = :.5f}')\n",
        "print(f'Residuo calculado, {rss = :.5f}\\n')"
      ]
    }
  ]
}